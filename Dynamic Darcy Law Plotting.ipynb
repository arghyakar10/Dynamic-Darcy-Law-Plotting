{
 "cells": [
  {
   "cell_type": "code",
   "execution_count": 1,
   "id": "78b061ba",
   "metadata": {},
   "outputs": [],
   "source": [
    "import numpy as np\n",
    "import pandas as pd\n",
    "import matplotlib.pyplot as plt\n",
    "from ipywidgets import interact, interactive\n",
    "from IPython.display import display \n",
    "\n",
    "def flow_profile(k,meu,q):\n",
    "    re = 3000\n",
    "    rwf = 0.5\n",
    "    pe = 4000\n",
    "    B = 1\n",
    "    h = 30\n",
    "    r = np.linspace(re,rwf,500)\n",
    "    \n",
    "    P = pe - (141.2*q*B*meu*(np.log(re/r)))/(k*h)\n",
    "    \n",
    "    y_min = P[np.where(r==rwf)]\n",
    "    \n",
    "    plt.plot(r,P)\n",
    "    plt.axhline(y_min,color = 'red')\n",
    "    plt.ylim(0,5000)\n",
    "    plt.xlabel('ft')\n",
    "    plt.ylabel('Pressure')\n",
    "    plt.title('Dynamic Pressure Profile')\n",
    "    plt.grid(True)\n",
    "    \n",
    "    return r,P"
   ]
  },
  {
   "cell_type": "code",
   "execution_count": 2,
   "id": "764bb23b",
   "metadata": {},
   "outputs": [],
   "source": [
    "w = interactive(flow_profile,k =(200,1000), meu = (10,220), q= (100,200))"
   ]
  },
  {
   "cell_type": "code",
   "execution_count": 3,
   "id": "5f9b8977",
   "metadata": {},
   "outputs": [
    {
     "data": {
      "application/vnd.jupyter.widget-view+json": {
       "model_id": "b55eb96b72804c3ebbbdb412c4c2bbb2",
       "version_major": 2,
       "version_minor": 0
      },
      "text/plain": [
       "interactive(children=(IntSlider(value=600, description='k', max=1000, min=200), IntSlider(value=115, descripti…"
      ]
     },
     "metadata": {},
     "output_type": "display_data"
    }
   ],
   "source": [
    "display(w)"
   ]
  },
  {
   "cell_type": "code",
   "execution_count": null,
   "id": "737e0ef5",
   "metadata": {},
   "outputs": [],
   "source": []
  },
  {
   "cell_type": "code",
   "execution_count": null,
   "id": "876fc739",
   "metadata": {},
   "outputs": [],
   "source": []
  }
 ],
 "metadata": {
  "kernelspec": {
   "display_name": "Python 3 (ipykernel)",
   "language": "python",
   "name": "python3"
  },
  "language_info": {
   "codemirror_mode": {
    "name": "ipython",
    "version": 3
   },
   "file_extension": ".py",
   "mimetype": "text/x-python",
   "name": "python",
   "nbconvert_exporter": "python",
   "pygments_lexer": "ipython3",
   "version": "3.11.3"
  }
 },
 "nbformat": 4,
 "nbformat_minor": 5
}
